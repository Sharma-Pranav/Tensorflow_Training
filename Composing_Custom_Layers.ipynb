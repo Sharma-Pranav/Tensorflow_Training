{
  "nbformat": 4,
  "nbformat_minor": 0,
  "metadata": {
    "colab": {
      "name": "Composing Custom Layers.ipynb",
      "version": "0.3.2",
      "provenance": [],
      "collapsed_sections": [],
      "include_colab_link": true
    },
    "kernelspec": {
      "name": "python3",
      "display_name": "Python 3"
    }
  },
  "cells": [
    {
      "cell_type": "markdown",
      "metadata": {
        "id": "view-in-github",
        "colab_type": "text"
      },
      "source": [
        "<a href=\"https://colab.research.google.com/github/Sharma-Pranav/Tensorflow_Training/blob/master/Composing_Custom_Layers.ipynb\" target=\"_parent\"><img src=\"https://colab.research.google.com/assets/colab-badge.svg\" alt=\"Open In Colab\"/></a>"
      ]
    },
    {
      "cell_type": "code",
      "metadata": {
        "id": "x6rZVq3rID7I",
        "colab_type": "code",
        "colab": {}
      },
      "source": [
        "import tensorflow as tf\n",
        "tf.enable_eager_execution()"
      ],
      "execution_count": 0,
      "outputs": []
    },
    {
      "cell_type": "code",
      "metadata": {
        "id": "RQNLce7-IIbp",
        "colab_type": "code",
        "colab": {}
      },
      "source": [
        "class mydenselayer(tf.keras.layers.Layer):\n",
        "  def __init__(self, num_outputs):\n",
        "    super(mydenselayer, self).__init__()\n",
        "    self.num_outputs = num_outputs\n",
        "    \n",
        "  def build(self, input_shape):\n",
        "    self.kernel = self.add_variable('kernel', shape = [int(input_shape[-1]), self.num_outputs])\n",
        "    \n",
        "  def call(self, input):\n",
        "    return tf.matmul(input, self.kernel)"
      ],
      "execution_count": 0,
      "outputs": []
    },
    {
      "cell_type": "code",
      "metadata": {
        "id": "7EH0xiaaJcOD",
        "colab_type": "code",
        "colab": {
          "base_uri": "https://localhost:8080/",
          "height": 408
        },
        "outputId": "7ec1725e-de10-4359-83e2-f000f228fe96"
      },
      "source": [
        "layer = mydenselayer(10)\n",
        "print(layer(tf.zeros([10, 5])))\n",
        "print(layer.trainable_variables)"
      ],
      "execution_count": 5,
      "outputs": [
        {
          "output_type": "stream",
          "text": [
            "tf.Tensor(\n",
            "[[0. 0. 0. 0. 0. 0. 0. 0. 0. 0.]\n",
            " [0. 0. 0. 0. 0. 0. 0. 0. 0. 0.]\n",
            " [0. 0. 0. 0. 0. 0. 0. 0. 0. 0.]\n",
            " [0. 0. 0. 0. 0. 0. 0. 0. 0. 0.]\n",
            " [0. 0. 0. 0. 0. 0. 0. 0. 0. 0.]\n",
            " [0. 0. 0. 0. 0. 0. 0. 0. 0. 0.]\n",
            " [0. 0. 0. 0. 0. 0. 0. 0. 0. 0.]\n",
            " [0. 0. 0. 0. 0. 0. 0. 0. 0. 0.]\n",
            " [0. 0. 0. 0. 0. 0. 0. 0. 0. 0.]\n",
            " [0. 0. 0. 0. 0. 0. 0. 0. 0. 0.]], shape=(10, 10), dtype=float32)\n",
            "[<tf.Variable 'mydenselayer_1/kernel:0' shape=(5, 10) dtype=float32, numpy=\n",
            "array([[-0.10234058,  0.19065177, -0.3972822 , -0.16360667,  0.2588014 ,\n",
            "         0.11439031, -0.18830368,  0.3601789 , -0.22636089,  0.16712838],\n",
            "       [-0.12792617,  0.46502906,  0.5213695 ,  0.4248454 ,  0.39140886,\n",
            "         0.43017596, -0.5797009 ,  0.53141326,  0.54871804,  0.13790905],\n",
            "       [ 0.03565967, -0.06212211,  0.27753377, -0.22062308, -0.19969624,\n",
            "        -0.01216716, -0.51593304, -0.43941617,  0.01887339, -0.42862132],\n",
            "       [ 0.1612007 , -0.56092614, -0.24041581,  0.51730055, -0.31343138,\n",
            "         0.11122721,  0.0514158 ,  0.5844162 , -0.2184698 , -0.5525664 ],\n",
            "       [ 0.43022734,  0.19335514,  0.25479674,  0.3593803 , -0.06445664,\n",
            "         0.01043385,  0.17249286, -0.06228268, -0.04276198, -0.32519248]],\n",
            "      dtype=float32)>]\n"
          ],
          "name": "stdout"
        }
      ]
    },
    {
      "cell_type": "code",
      "metadata": {
        "id": "8R8eKhV-Jvc3",
        "colab_type": "code",
        "colab": {}
      },
      "source": [
        "class ResnetIdentityBlock(tf.keras.Model):\n",
        "  def __init__(self, kernel_size, filters):\n",
        "    super(ResnetIdentityBlock, self).__init__(name = '')\n",
        "    filters1, filters2, filters3 = filters\n",
        "    \n",
        "    self.conv2a = tf.keras.layers.Conv2D(filters1, (1, 1))\n",
        "    self.bn2a = tf.keras.layers.BatchNormalization()\n",
        "\n",
        "    self.conv2b = tf.keras.layers.Conv2D(filters2, kernel_size, padding='same')\n",
        "    self.bn2b = tf.keras.layers.BatchNormalization()\n",
        "\n",
        "    self.conv2c = tf.keras.layers.Conv2D(filters3, (1, 1))\n",
        "    self.bn2c = tf.keras.layers.BatchNormalization()\n",
        "  def call(self, input_tensor, training = False):\n",
        "    x = self.conv2a(input_tensor)\n",
        "    x = self.bn2a(x, training = training)\n",
        "    x = tf.nn.relu(x)\n",
        "    \n",
        "    x = self.conv2b(x)\n",
        "    x = self.bn2b(x, training = training)\n",
        "    x = tf.nn.relu(x)\n",
        "    \n",
        "    x = self.conv2c(x)\n",
        "    x = self.bn2c(x, training = training)\n",
        "    x += input_tensor\n",
        "    return tf.nn.relu(x)"
      ],
      "execution_count": 0,
      "outputs": []
    },
    {
      "cell_type": "code",
      "metadata": {
        "id": "rXTP9X-uNE5f",
        "colab_type": "code",
        "colab": {
          "base_uri": "https://localhost:8080/",
          "height": 241
        },
        "outputId": "ed5f2d50-f676-4e81-a0e8-52440e78b68f"
      },
      "source": [
        "block = ResnetIdentityBlock(1, [1, 2, 3])\n",
        "print(block(tf.zeros([1, 2, 3, 3])))\n",
        "print([x.name for x in block.trainable_variables])"
      ],
      "execution_count": 11,
      "outputs": [
        {
          "output_type": "stream",
          "text": [
            "WARNING:tensorflow:From /usr/local/lib/python3.6/dist-packages/tensorflow/python/ops/resource_variable_ops.py:642: colocate_with (from tensorflow.python.framework.ops) is deprecated and will be removed in a future version.\n",
            "Instructions for updating:\n",
            "Colocations handled automatically by placer.\n",
            "tf.Tensor(\n",
            "[[[[0. 0. 0.]\n",
            "   [0. 0. 0.]\n",
            "   [0. 0. 0.]]\n",
            "\n",
            "  [[0. 0. 0.]\n",
            "   [0. 0. 0.]\n",
            "   [0. 0. 0.]]]], shape=(1, 2, 3, 3), dtype=float32)\n",
            "['resnet_identity_block_1/conv2d_1/kernel:0', 'resnet_identity_block_1/conv2d_1/bias:0', 'resnet_identity_block_1/batch_normalization_v1_1/gamma:0', 'resnet_identity_block_1/batch_normalization_v1_1/beta:0', 'resnet_identity_block_1/conv2d_2/kernel:0', 'resnet_identity_block_1/conv2d_2/bias:0', 'resnet_identity_block_1/batch_normalization_v1_2/gamma:0', 'resnet_identity_block_1/batch_normalization_v1_2/beta:0', 'resnet_identity_block_1/conv2d_3/kernel:0', 'resnet_identity_block_1/conv2d_3/bias:0', 'resnet_identity_block_1/batch_normalization_v1_3/gamma:0', 'resnet_identity_block_1/batch_normalization_v1_3/beta:0']\n"
          ],
          "name": "stdout"
        }
      ]
    },
    {
      "cell_type": "code",
      "metadata": {
        "id": "ahi3QziuNZrq",
        "colab_type": "code",
        "colab": {}
      },
      "source": [
        ""
      ],
      "execution_count": 0,
      "outputs": []
    }
  ]
}